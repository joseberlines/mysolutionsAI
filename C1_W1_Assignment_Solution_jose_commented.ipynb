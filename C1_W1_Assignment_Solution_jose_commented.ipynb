{
 "cells": [
  {
   "cell_type": "markdown",
   "metadata": {},
   "source": [
    "# Assignment 1: Logistic Regression\n",
    "Welcome to week one of this specialization. You will learn about logistic regression. Concretely, you will be implementing logistic regression for sentiment analysis on tweets. Given a tweet, you will decide if it has a positive sentiment or a negative one. Specifically you will: \n",
    "\n",
    "* Learn how to extract features for logistic regression given some text\n",
    "* Implement logistic regression from scratch\n",
    "* Apply logistic regression on a natural language processing task\n",
    "* Test using your logistic regression\n",
    "* Perform error analysis\n",
    "\n",
    "We will be using a data set of tweets. Hopefully you will get more than 99% accuracy.  \n",
    "Run the cell below to load in the packages."
   ]
  },
  {
   "cell_type": "markdown",
   "metadata": {},
   "source": [
    "## Import functions and data"
   ]
  },
  {
   "cell_type": "code",
   "execution_count": 65,
   "metadata": {
    "tags": []
   },
   "outputs": [],
   "source": [
    "# run this cell to import nltk\n",
    "import nltk\n",
    "from os import getcwd\n",
    "from nltk.corpus import stopwords\n",
    "from nltk.stem import PorterStemmer\n",
    "from nltk.tokenize import TweetTokenizer\n",
    "import re\n",
    "import string\n",
    "import matplotlib.pyplot as plt"
   ]
  },
  {
   "cell_type": "code",
   "execution_count": 30,
   "metadata": {
    "tags": []
   },
   "outputs": [],
   "source": [
    "def process_tweet(tweet, DEBUG=False):\n",
    "    \"\"\"Process tweet function.\n",
    "    Input:\n",
    "        tweet: a string containing a tweet\n",
    "    Output:\n",
    "        tweets_clean: a list of words containing the processed tweet\n",
    "\n",
    "    \"\"\"\n",
    "    stopwords_english =['i','me','my','myself','we','our','ours','ourselves','you','your','yours','yourself','yourselves','he','him','his','himself','she','her','hers','herself','it','its','itself','they','them','their','theirs','themselves','what','which','who','whom','this','that','these','those','am','is','are','was','were','be','been','being','have','has','had','having','do','does','did','doing','a','an','the','and','but','if','or','because','as','until','while','of','at','by','for','with','about','against','between','into','through','during','before','after','above','below','to','from','up','down','in','out','on','off','over','under','again','further','then','once','here','there','when','where','why','how','all','any','both','each','few','more','most','other','some','such','no','nor','not','only','own','same','so','than','too','very','s','t','can','will','just','don','should','now','“,']\n",
    "    stemmer = PorterStemmer()\n",
    "    #stopwords_english = stopwords.words('english')\n",
    "    # remove stock market tickers like $GE\n",
    "    tweet = re.sub(r'\\$\\w*', '', tweet)\n",
    "    # remove old style retweet text \"RT\"\n",
    "    tweet = re.sub(r'^RT[\\s]+', '', tweet)\n",
    "    # remove hyperlinks\n",
    "    tweet = re.sub(r'https?:\\/\\/.*[\\r\\n]*', '', tweet)\n",
    "    # remove hashtags\n",
    "    # only removing the hash # sign from the word\n",
    "    tweet = re.sub(r'#', '', tweet)\n",
    "    # tokenize tweets\n",
    "    tokenizer = TweetTokenizer(preserve_case=False, strip_handles=True,\n",
    "                               reduce_len=True)\n",
    "    tweet_tokens = tokenizer.tokenize(tweet)\n",
    "\n",
    "    tweets_clean = []\n",
    "    for word in tweet_tokens:\n",
    "        if (word not in stopwords_english and  # remove stopwords\n",
    "                word not in string.punctuation):  # remove punctuation\n",
    "            # tweets_clean.append(word)\n",
    "            stem_word = stemmer.stem(word)  # stemming word\n",
    "            tweets_clean.append(stem_word)\n",
    "    if DEBUG: \n",
    "        print(f\"--PROCESS tweet--\\nIN: {tweet} \\nOUT:{tweets_clean}\")\n",
    "    return tweets_clean\n",
    "\n",
    "\n",
    "def build_freqs(tweets, ys, DEBUG =False):\n",
    "    \"\"\"Build frequencies.\n",
    "    Input:\n",
    "        tweets: a list of tweets\n",
    "        ys: an m x 1 array with the sentiment label of each tweet\n",
    "            (either 0 or 1)\n",
    "    Output:\n",
    "        freqs: a dictionary mapping each (word, sentiment) pair to its\n",
    "        frequency\n",
    "    \"\"\"\n",
    "    # Convert np array to list since zip needs an iterable.\n",
    "    # The squeeze is necessary or the list ends up with one element.\n",
    "    # Also note that this is just a NOP if ys is already a list.\n",
    "    yslist = np.squeeze(ys).tolist()\n",
    "\n",
    "    # Start with an empty dictionary and populate it by looping over all tweets\n",
    "    # and over all processed words in each tweet.\n",
    "    freqs = {}\n",
    "    for y, tweet in zip(yslist, tweets):\n",
    "        for word in process_tweet(tweet, DEBUG=DEBUG):\n",
    "            pair = (word, y)\n",
    "            if pair in freqs:\n",
    "                freqs[pair] += 1\n",
    "            else:\n",
    "                freqs[pair] = 1\n",
    "            if DEBUG:\n",
    "                print(freqs)\n",
    "\n",
    "    return freqs"
   ]
  },
  {
   "cell_type": "markdown",
   "metadata": {},
   "source": [
    "### Imported functions\n",
    "\n",
    "Download the data needed for this assignment. Check out the [documentation for the twitter_samples dataset](http://www.nltk.org/howto/twitter.html).\n",
    "\n",
    "* twitter_samples: if you're running this notebook on your local computer, you will need to download it using:\n",
    "```Python\n",
    "nltk.download('twitter_samples')\n",
    "```\n",
    "\n",
    "* stopwords: if you're running this notebook on your local computer, you will need to download it using:\n",
    "```python\n",
    "nltk.download('stopwords')\n",
    "```\n",
    "\n",
    "#### Import some helper functions that we provided in the utils.py file:\n",
    "* `process_tweet()`: cleans the text, tokenizes it into separate words, removes stopwords, and converts words to stems.\n",
    "* `build_freqs()`: this counts how often a word in the 'corpus' (the entire set of tweets) was associated with a positive label '1' or a negative label '0', then builds the `freqs` dictionary, where each key is a (word,label) tuple, and the value is the count of its frequency within the corpus of tweets."
   ]
  },
  {
   "cell_type": "code",
   "execution_count": 31,
   "metadata": {
    "tags": []
   },
   "outputs": [
    {
     "name": "stdout",
     "output_type": "stream",
     "text": [
      "/home/jovyan/02_LEARN/lrn_AI/coursera/Natural-Language-Processing-Specialization/Natural Language Processing with Classification and Vector Spaces/Week 1/../tmp2/\n"
     ]
    }
   ],
   "source": [
    "# add folder, tmp2, from our local workspace containing pre-downloaded corpora files to nltk's data path\n",
    "# this enables importing of these files without downloading it again when we refresh our workspace\n",
    "\n",
    "filePath = f\"{getcwd()}/../tmp2/\"\n",
    "filePath2 = \"/home/jovyan/02_LEARN/lrn_AI/coursera/Natural-Language-Processing-Specialization/Natural Language Processing with Classification and Vector Spaces/Week 1/tmp2/\"\n",
    "print(filePath)\n",
    "nltk.data.path.append(filePath)\n",
    "nltk.data.path.append(filePath2)\n"
   ]
  },
  {
   "cell_type": "code",
   "execution_count": 32,
   "metadata": {
    "tags": []
   },
   "outputs": [],
   "source": [
    "import numpy as np\n",
    "import pandas as pd\n",
    "from nltk.corpus import twitter_samples \n",
    "\n",
    "#from utils import process_tweet, build_freqs"
   ]
  },
  {
   "cell_type": "markdown",
   "metadata": {},
   "source": [
    "### Prepare the data\n",
    "* The `twitter_samples` contains subsets of 5,000 positive tweets, 5,000 negative tweets, and the full set of 10,000 tweets.  \n",
    "    * If you used all three datasets, we would introduce duplicates of the positive tweets and negative tweets.  \n",
    "    * You will select just the five thousand positive tweets and five thousand negative tweets."
   ]
  },
  {
   "cell_type": "code",
   "execution_count": 33,
   "metadata": {
    "tags": []
   },
   "outputs": [],
   "source": [
    "# select the set of positive and negative tweets\n",
    "all_positive_tweets = twitter_samples.strings('positive_tweets.json')\n",
    "all_negative_tweets = twitter_samples.strings('negative_tweets.json')"
   ]
  },
  {
   "cell_type": "code",
   "execution_count": 34,
   "metadata": {
    "tags": []
   },
   "outputs": [
    {
     "name": "stdout",
     "output_type": "stream",
     "text": [
      "There are 5000 positive tweets\n",
      "There are 5000 negative tweets\n"
     ]
    }
   ],
   "source": [
    "print(f\"There are {len(all_positive_tweets)} positive tweets\")\n",
    "print(f\"There are {len(all_negative_tweets)} negative tweets\")\n"
   ]
  },
  {
   "cell_type": "markdown",
   "metadata": {},
   "source": [
    "# split\n",
    "* Train test split: 20% will be in the test set, and 80% in the training set.\n"
   ]
  },
  {
   "cell_type": "code",
   "execution_count": 35,
   "metadata": {},
   "outputs": [],
   "source": [
    "# split the data into two pieces, one for training and one for testing (validation set) \n",
    "train_pos = all_positive_tweets[:4000]\n",
    "train_neg = all_negative_tweets[:4000]\n",
    "\n",
    "test_pos = all_positive_tweets[4000:]\n",
    "test_neg = all_negative_tweets[4000:]\n",
    "\n",
    "train_x = train_pos + train_neg \n",
    "test_x = test_pos + test_neg"
   ]
  },
  {
   "cell_type": "markdown",
   "metadata": {},
   "source": [
    "### having a look to varibles"
   ]
  },
  {
   "cell_type": "code",
   "execution_count": 36,
   "metadata": {},
   "outputs": [
    {
     "name": "stdout",
     "output_type": "stream",
     "text": [
      "There are 8000 train tweets\n",
      "There are 2000 test tweets\n"
     ]
    }
   ],
   "source": [
    "print(f\"There are {len(train_x)} train tweets\")\n",
    "print(f\"There are {len(test_x)} test tweets\")\n"
   ]
  },
  {
   "cell_type": "code",
   "execution_count": 37,
   "metadata": {},
   "outputs": [
    {
     "data": {
      "text/plain": [
       "list"
      ]
     },
     "execution_count": 37,
     "metadata": {},
     "output_type": "execute_result"
    }
   ],
   "source": [
    "type(train_x)"
   ]
  },
  {
   "cell_type": "code",
   "execution_count": 38,
   "metadata": {},
   "outputs": [
    {
     "name": "stdout",
     "output_type": "stream",
     "text": [
      "First tweet: #FollowFriday @France_Inte @PKuchly57 @Milipol_Paris for being top engaged members in my community this week :) \n",
      "It is of <class 'str'> type\n"
     ]
    }
   ],
   "source": [
    "print(f\"First tweet: {train_x[0]} \\nIt is of {type(train_x[0])} type\")"
   ]
  },
  {
   "cell_type": "markdown",
   "metadata": {},
   "source": [
    "* Create the numpy array of positive labels and negative labels."
   ]
  },
  {
   "cell_type": "code",
   "execution_count": 39,
   "metadata": {},
   "outputs": [],
   "source": [
    "# combine positive and negative labels\n",
    "# como sabemos si los tweets son positivos o negativos \n",
    "# construimos una matriz de unos y ceros correspondiente a pos / negs\n",
    "train_y = np.append(np.ones((len(train_pos), 1)), np.zeros((len(train_neg), 1)), axis=0)\n",
    "test_y = np.append(np.ones((len(test_pos), 1)), np.zeros((len(test_neg), 1)), axis=0)"
   ]
  },
  {
   "cell_type": "code",
   "execution_count": 40,
   "metadata": {},
   "outputs": [
    {
     "name": "stdout",
     "output_type": "stream",
     "text": [
      "['#FollowFriday @France_Inte @PKuchly57 @Milipol_Paris for being top engaged members in my community this week :)', '@Lamb2ja Hey James! How odd :/ Please call our Contact Centre on 02392441234 and we will be able to assist you :) Many thanks!', '@DespiteOfficial we had a listen last night :) As You Bleed is an amazing track. When are you in Scotland?!']\n",
      "[[1.]\n",
      " [1.]\n",
      " [1.]]\n"
     ]
    }
   ],
   "source": [
    "# mio:\n",
    "# Tenemos una lista con todos los tweest\n",
    "# y tenemos otra matriz numpy con el label correspondiente (1=pos; 0=neg)\n",
    "print(train_x[0:3])\n",
    "print(train_y[0:3])"
   ]
  },
  {
   "cell_type": "code",
   "execution_count": 41,
   "metadata": {},
   "outputs": [
    {
     "name": "stdout",
     "output_type": "stream",
     "text": [
      "train_y.shape = (8000, 1)\n",
      "test_y.shape = (2000, 1)\n"
     ]
    }
   ],
   "source": [
    "# Print the shape train and test sets\n",
    "print(\"train_y.shape = \" + str(train_y.shape))\n",
    "print(\"test_y.shape = \" + str(test_y.shape))"
   ]
  },
  {
   "cell_type": "markdown",
   "metadata": {},
   "source": [
    "* Create the frequency dictionary using the imported `build_freqs()` function.  \n",
    "    * We highly recommend that you open `utils.py` and read the `build_freqs()` function to understand what it is doing.\n",
    "    * To view the file directory, go to the menu and click File->Open.\n",
    "\n",
    "```Python\n",
    "    for y,tweet in zip(ys, tweets):\n",
    "        for word in process_tweet(tweet):\n",
    "            pair = (word, y)\n",
    "            if pair in freqs:\n",
    "                freqs[pair] += 1\n",
    "            else:\n",
    "                freqs[pair] = 1\n",
    "```\n",
    "* Notice how the outer for loop goes through each tweet, and the inner for loop steps through each word in a tweet.\n",
    "* The `freqs` dictionary is the frequency dictionary that's being built. \n",
    "* The key is the tuple (word, label), such as (\"happy\",1) or (\"happy\",0).  The value stored for each key is the count of how many times the word \"happy\" was associated with a positive label, or how many times \"happy\" was associated with a negative label."
   ]
  },
  {
   "cell_type": "code",
   "execution_count": 42,
   "metadata": {},
   "outputs": [
    {
     "name": "stdout",
     "output_type": "stream",
     "text": [
      "--PROCESS tweet--\n",
      "IN: this is a very positive tweet house \n",
      "OUT:['posit', 'tweet', 'hous']\n",
      "{('posit', 1): 1}\n",
      "{('posit', 1): 1, ('tweet', 1): 1}\n",
      "{('posit', 1): 1, ('tweet', 1): 1, ('hous', 1): 1}\n",
      "--PROCESS tweet--\n",
      "IN: really bad thing house \n",
      "OUT:['realli', 'bad', 'thing', 'hous']\n",
      "{('posit', 1): 1, ('tweet', 1): 1, ('hous', 1): 1, ('realli', 0): 1}\n",
      "{('posit', 1): 1, ('tweet', 1): 1, ('hous', 1): 1, ('realli', 0): 1, ('bad', 0): 1}\n",
      "{('posit', 1): 1, ('tweet', 1): 1, ('hous', 1): 1, ('realli', 0): 1, ('bad', 0): 1, ('thing', 0): 1}\n",
      "{('posit', 1): 1, ('tweet', 1): 1, ('hous', 1): 1, ('realli', 0): 1, ('bad', 0): 1, ('thing', 0): 1, ('hous', 0): 1}\n",
      "--PROCESS tweet--\n",
      "IN: really good car house \n",
      "OUT:['realli', 'good', 'car', 'hous']\n",
      "{('posit', 1): 1, ('tweet', 1): 1, ('hous', 1): 1, ('realli', 0): 1, ('bad', 0): 1, ('thing', 0): 1, ('hous', 0): 1, ('realli', 1): 1}\n",
      "{('posit', 1): 1, ('tweet', 1): 1, ('hous', 1): 1, ('realli', 0): 1, ('bad', 0): 1, ('thing', 0): 1, ('hous', 0): 1, ('realli', 1): 1, ('good', 1): 1}\n",
      "{('posit', 1): 1, ('tweet', 1): 1, ('hous', 1): 1, ('realli', 0): 1, ('bad', 0): 1, ('thing', 0): 1, ('hous', 0): 1, ('realli', 1): 1, ('good', 1): 1, ('car', 1): 1}\n",
      "{('posit', 1): 1, ('tweet', 1): 1, ('hous', 1): 2, ('realli', 0): 1, ('bad', 0): 1, ('thing', 0): 1, ('hous', 0): 1, ('realli', 1): 1, ('good', 1): 1, ('car', 1): 1}\n",
      "--PROCESS tweet--\n",
      "IN: house having a good computer \n",
      "OUT:['hous', 'good', 'comput']\n",
      "{('posit', 1): 1, ('tweet', 1): 1, ('hous', 1): 3, ('realli', 0): 1, ('bad', 0): 1, ('thing', 0): 1, ('hous', 0): 1, ('realli', 1): 1, ('good', 1): 1, ('car', 1): 1}\n",
      "{('posit', 1): 1, ('tweet', 1): 1, ('hous', 1): 3, ('realli', 0): 1, ('bad', 0): 1, ('thing', 0): 1, ('hous', 0): 1, ('realli', 1): 1, ('good', 1): 2, ('car', 1): 1}\n",
      "{('posit', 1): 1, ('tweet', 1): 1, ('hous', 1): 3, ('realli', 0): 1, ('bad', 0): 1, ('thing', 0): 1, ('hous', 0): 1, ('realli', 1): 1, ('good', 1): 2, ('car', 1): 1, ('comput', 1): 1}\n",
      "--PROCESS tweet--\n",
      "IN: house really cool \n",
      "OUT:['hous', 'realli', 'cool']\n",
      "{('posit', 1): 1, ('tweet', 1): 1, ('hous', 1): 4, ('realli', 0): 1, ('bad', 0): 1, ('thing', 0): 1, ('hous', 0): 1, ('realli', 1): 1, ('good', 1): 2, ('car', 1): 1, ('comput', 1): 1}\n",
      "{('posit', 1): 1, ('tweet', 1): 1, ('hous', 1): 4, ('realli', 0): 1, ('bad', 0): 1, ('thing', 0): 1, ('hous', 0): 1, ('realli', 1): 2, ('good', 1): 2, ('car', 1): 1, ('comput', 1): 1}\n",
      "{('posit', 1): 1, ('tweet', 1): 1, ('hous', 1): 4, ('realli', 0): 1, ('bad', 0): 1, ('thing', 0): 1, ('hous', 0): 1, ('realli', 1): 2, ('good', 1): 2, ('car', 1): 1, ('comput', 1): 1, ('cool', 1): 1}\n",
      "--PROCESS tweet--\n",
      "IN: house this is good big shit \n",
      "OUT:['hous', 'good', 'big', 'shit']\n",
      "{('posit', 1): 1, ('tweet', 1): 1, ('hous', 1): 4, ('realli', 0): 1, ('bad', 0): 1, ('thing', 0): 1, ('hous', 0): 2, ('realli', 1): 2, ('good', 1): 2, ('car', 1): 1, ('comput', 1): 1, ('cool', 1): 1}\n",
      "{('posit', 1): 1, ('tweet', 1): 1, ('hous', 1): 4, ('realli', 0): 1, ('bad', 0): 1, ('thing', 0): 1, ('hous', 0): 2, ('realli', 1): 2, ('good', 1): 2, ('car', 1): 1, ('comput', 1): 1, ('cool', 1): 1, ('good', 0): 1}\n",
      "{('posit', 1): 1, ('tweet', 1): 1, ('hous', 1): 4, ('realli', 0): 1, ('bad', 0): 1, ('thing', 0): 1, ('hous', 0): 2, ('realli', 1): 2, ('good', 1): 2, ('car', 1): 1, ('comput', 1): 1, ('cool', 1): 1, ('good', 0): 1, ('big', 0): 1}\n",
      "{('posit', 1): 1, ('tweet', 1): 1, ('hous', 1): 4, ('realli', 0): 1, ('bad', 0): 1, ('thing', 0): 1, ('hous', 0): 2, ('realli', 1): 2, ('good', 1): 2, ('car', 1): 1, ('comput', 1): 1, ('cool', 1): 1, ('good', 0): 1, ('big', 0): 1, ('shit', 0): 1}\n",
      "{('posit', 1): 1, ('tweet', 1): 1, ('hous', 1): 4, ('realli', 0): 1, ('bad', 0): 1, ('thing', 0): 1, ('hous', 0): 2, ('realli', 1): 2, ('good', 1): 2, ('car', 1): 1, ('comput', 1): 1, ('cool', 1): 1, ('good', 0): 1, ('big', 0): 1, ('shit', 0): 1}\n"
     ]
    }
   ],
   "source": [
    "# JOSE: Example:\n",
    "mytweets=['this is a very positive tweet house', 'really bad thing house','really good car house','house having a good computer','house really cool','house this is good big shit']\n",
    "myys = [[1],[0],[1],[1],[1],[0]]\n",
    "myfreqs = build_freqs(mytweets, myys, DEBUG=True)\n",
    "print(myfreqs)"
   ]
  },
  {
   "cell_type": "code",
   "execution_count": 43,
   "metadata": {},
   "outputs": [
    {
     "name": "stdout",
     "output_type": "stream",
     "text": [
      "type(freqs) = <class 'dict'>\n",
      "len(freqs) = 11399\n"
     ]
    }
   ],
   "source": [
    "# create frequency dictionary\n",
    "freqs = build_freqs(train_x, train_y)\n",
    "\n",
    "# check the output\n",
    "print(\"type(freqs) = \" + str(type(freqs)))\n",
    "print(\"len(freqs) = \" + str(len(freqs.keys())))"
   ]
  },
  {
   "cell_type": "code",
   "execution_count": 46,
   "metadata": {},
   "outputs": [
    {
     "name": "stdout",
     "output_type": "stream",
     "text": [
      "(':(', 0.0)\n",
      "('centr', 1.0)\n"
     ]
    }
   ],
   "source": [
    "# finding the most frequent word in positive tweets\n",
    "print(max(freqs, key=freqs.get))\n",
    "print(min(freqs, key=freqs.get))"
   ]
  },
  {
   "cell_type": "markdown",
   "metadata": {},
   "source": [
    "#### Expected output\n",
    "```\n",
    "type(freqs) = <class 'dict'>\n",
    "len(freqs) = 11346\n",
    "```"
   ]
  },
  {
   "cell_type": "markdown",
   "metadata": {},
   "source": [
    "### Process tweet\n",
    "The given function `process_tweet()` tokenizes the tweet into individual words, removes stop words and applies stemming."
   ]
  },
  {
   "cell_type": "code",
   "execution_count": 47,
   "metadata": {},
   "outputs": [
    {
     "name": "stdout",
     "output_type": "stream",
     "text": [
      "This is an example of a positive tweet: \n",
      " #FollowFriday @France_Inte @PKuchly57 @Milipol_Paris for being top engaged members in my community this week :)\n",
      "\n",
      "This is an example of the processed version of the tweet: \n",
      " ['followfriday', 'top', 'engag', 'member', 'commun', 'week', ':)']\n"
     ]
    }
   ],
   "source": [
    "# test the function below\n",
    "print('This is an example of a positive tweet: \\n', train_x[0])\n",
    "print('\\nThis is an example of the processed version of the tweet: \\n', process_tweet(train_x[0]))"
   ]
  },
  {
   "cell_type": "markdown",
   "metadata": {},
   "source": [
    "#### Expected output\n",
    "```\n",
    "This is an example of a positive tweet: \n",
    " #FollowFriday @France_Inte @PKuchly57 @Milipol_Paris for being top engaged members in my community this week :)\n",
    " \n",
    "This is an example of the processes version: \n",
    " ['followfriday', 'top', 'engag', 'member', 'commun', 'week', ':)']\n",
    "```"
   ]
  },
  {
   "cell_type": "markdown",
   "metadata": {},
   "source": [
    "# Part 1: Logistic regression \n",
    "\n",
    "\n",
    "### Part 1.1: Sigmoid\n",
    "You will learn to use logistic regression for text classification. \n",
    "* The sigmoid function is defined as: \n",
    "\n",
    "$$ h(z) = \\frac{1}{1+\\exp^{-z}} \\tag{1}$$\n",
    "\n",
    "It maps the input 'z' to a value that ranges between 0 and 1, and so it can be treated as a probability. \n",
    "\n",
    "<div style=\"width:image width px; font-size:100%; text-align:center;\"><img src='../tmp2/sigmoid_plot.jpg' alt=\"alternate text\" width=\"width\" height=\"height\" style=\"width:300px;height:200px;\" /> Figure 1 </div>"
   ]
  },
  {
   "cell_type": "markdown",
   "metadata": {},
   "source": [
    "#### Instructions: Implement the sigmoid function\n",
    "* You will want this function to work if z is a scalar as well as if it is an array."
   ]
  },
  {
   "cell_type": "markdown",
   "metadata": {},
   "source": [
    "<details>    \n",
    "<summary>\n",
    "    <font size=\"3\" color=\"darkgreen\"><b>Hints</b></font>\n",
    "</summary>\n",
    "<p>\n",
    "<ul>\n",
    "    <li><a href=\"https://docs.scipy.org/doc/numpy/reference/generated/numpy.exp.html\" > numpy.exp </a> </li>\n",
    "\n",
    "</ul>\n",
    "</p>\n",
    "\n"
   ]
  },
  {
   "cell_type": "code",
   "execution_count": 48,
   "metadata": {},
   "outputs": [],
   "source": [
    "# UNQ_C1 (UNIQUE CELL IDENTIFIER, DO NOT EDIT)\n",
    "def sigmoid(z):\n",
    "    \"\"\"\n",
    "    Input:\n",
    "        z: is the input (can be a scalar or an array)\n",
    "    Output:\n",
    "        h: the sigmoid of z\n",
    "    \"\"\"\n",
    "\n",
    "    ### START CODE HERE (REPLACE INSTANCES OF 'None' with your code) ###\n",
    "    # calculate the sigmoid of z\n",
    "    sigmoid_of_z = 1 / (1 + np.exp(-z))\n",
    "    ### END CODE HERE ###\n",
    "\n",
    "    return sigmoid_of_z"
   ]
  },
  {
   "cell_type": "code",
   "execution_count": 49,
   "metadata": {},
   "outputs": [
    {
     "name": "stdout",
     "output_type": "stream",
     "text": [
      "SUCCESS!\n",
      "CORRECT!\n"
     ]
    }
   ],
   "source": [
    "# Testing your function \n",
    "if (sigmoid(0) == 0.5):\n",
    "    print('SUCCESS!')\n",
    "else:\n",
    "    print('Oops!')\n",
    "\n",
    "if (sigmoid(4.92) == 0.9927537604041685):\n",
    "    print('CORRECT!')\n",
    "else:\n",
    "    print('Oops again!')"
   ]
  },
  {
   "cell_type": "markdown",
   "metadata": {},
   "source": [
    "### Logistic regression: regression and a sigmoid\n",
    "\n",
    "Logistic regression takes a regular linear regression, and applies a sigmoid to the output of the linear regression.\n",
    "\n",
    "Regression:\n",
    "$$z = \\theta_0 x_0 + \\theta_1 x_1 + \\theta_2 x_2 + ... \\theta_N x_N$$\n",
    "Note that the $\\theta$ values are \"weights\". If you took the Deep Learning Specialization, we referred to the weights with the `w` vector.  In this course, we're using a different variable $\\theta$ to refer to the weights.\n",
    "\n",
    "Logistic regression\n",
    "$$ h(z) = \\frac{1}{1+\\exp^{-z}}$$\n",
    "$$z = \\theta_0 x_0 + \\theta_1 x_1 + \\theta_2 x_2 + ... \\theta_N x_N$$\n",
    "We will refer to 'z' as the 'logits'."
   ]
  },
  {
   "cell_type": "markdown",
   "metadata": {},
   "source": [
    "### Part 1.2 Cost function and Gradient\n",
    "\n",
    "The cost function used for logistic regression is the average of the log loss across all training examples:\n",
    "\n",
    "$$J(\\theta) = -\\frac{1}{m} \\sum_{i=1}^m y^{(i)}\\log (h(z(\\theta)^{(i)})) + (1-y^{(i)})\\log (1-h(z(\\theta)^{(i)}))\\tag{5} $$\n",
    "* $m$ is the number of training examples\n",
    "* $y^{(i)}$ is the actual label of the i-th training example.\n",
    "* $h(z(\\theta)^{(i)})$ is the model's prediction for the i-th training example.\n",
    "\n",
    "The loss function for a single training example is\n",
    "$$ Loss = -1 \\times \\left( y^{(i)}\\log (h(z(\\theta)^{(i)})) + (1-y^{(i)})\\log (1-h(z(\\theta)^{(i)})) \\right)$$\n",
    "\n",
    "* All the $h$ values are between 0 and 1, so the logs will be negative. That is the reason for the factor of -1 applied to the sum of the two loss terms.\n",
    "* Note that when the model predicts 1 ($h(z(\\theta)) = 1$) and the label $y$ is also 1, the loss for that training example is 0. \n",
    "* Similarly, when the model predicts 0 ($h(z(\\theta)) = 0$) and the actual label is also 0, the loss for that training example is 0. \n",
    "* However, when the model prediction is close to 1 ($h(z(\\theta)) = 0.9999$) and the label is 0, the second term of the log loss becomes a large negative number, which is then multiplied by the overall factor of -1 to convert it to a positive loss value. $-1 \\times (1 - 0) \\times log(1 - 0.9999) \\approx 9.2$ The closer the model prediction gets to 1, the larger the loss."
   ]
  },
  {
   "cell_type": "code",
   "execution_count": 50,
   "metadata": {},
   "outputs": [
    {
     "data": {
      "text/plain": [
       "9.210340371976292"
      ]
     },
     "execution_count": 50,
     "metadata": {},
     "output_type": "execute_result"
    }
   ],
   "source": [
    "# verify that when the model predicts close to 1, but the actual label is 0, the loss is a large positive value\n",
    "-1 * (1 - 0) * np.log(1 - 0.9999) # loss is about 9.2"
   ]
  },
  {
   "cell_type": "markdown",
   "metadata": {},
   "source": [
    "* Likewise, if the model predicts close to 0 ($h(z) = 0.0001$) but the actual label is 1, the first term in the loss function becomes a large number: $-1 \\times log(0.0001) \\approx 9.2$.  The closer the prediction is to zero, the larger the loss."
   ]
  },
  {
   "cell_type": "code",
   "execution_count": 51,
   "metadata": {},
   "outputs": [
    {
     "data": {
      "text/plain": [
       "9.210340371976182"
      ]
     },
     "execution_count": 51,
     "metadata": {},
     "output_type": "execute_result"
    }
   ],
   "source": [
    "# verify that when the model predicts close to 0 but the actual label is 1, the loss is a large positive value\n",
    "-1 * np.log(0.0001) # loss is about 9.2"
   ]
  },
  {
   "cell_type": "markdown",
   "metadata": {},
   "source": [
    "#### Update the weights\n",
    "\n",
    "To update your weight vector $\\theta$, you will apply gradient descent to iteratively improve your model's predictions.  \n",
    "The gradient of the cost function $J$ with respect to one of the weights $\\theta_j$ is:\n",
    "\n",
    "$$\\nabla_{\\theta_j}J(\\theta) = \\frac{1}{m} \\sum_{i=1}^m(h^{(i)}-y^{(i)})x_j \\tag{5}$$\n",
    "* 'i' is the index across all 'm' training examples.\n",
    "* 'j' is the index of the weight $\\theta_j$, so $x_j$ is the feature associated with weight $\\theta_j$\n",
    "\n",
    "* To update the weight $\\theta_j$, we adjust it by subtracting a fraction of the gradient determined by $\\alpha$:\n",
    "$$\\theta_j = \\theta_j - \\alpha \\times \\nabla_{\\theta_j}J(\\theta) $$\n",
    "* The learning rate $\\alpha$ is a value that we choose to control how big a single update will be.\n"
   ]
  },
  {
   "cell_type": "markdown",
   "metadata": {},
   "source": [
    "## Instructions: Implement gradient descent function\n",
    "* The number of iterations `num_iters` is the number of times that you'll use the entire training set.\n",
    "* For each iteration, you'll calculate the cost function using all training examples (there are `m` training examples), and for all features.\n",
    "* Instead of updating a single weight $\\theta_i$ at a time, we can update all the weights in the column vector:  \n",
    "$$\\mathbf{\\theta} = \\begin{pmatrix}\n",
    "\\theta_0\n",
    "\\\\\n",
    "\\theta_1\n",
    "\\\\ \n",
    "\\theta_2 \n",
    "\\\\ \n",
    "\\vdots\n",
    "\\\\ \n",
    "\\theta_n\n",
    "\\end{pmatrix}$$\n",
    "* $\\mathbf{\\theta}$ has dimensions (n+1, 1), where 'n' is the number of features, and there is one more element for the bias term $\\theta_0$ (note that the corresponding feature value $\\mathbf{x_0}$ is 1).\n",
    "* The 'logits', 'z', are calculated by multiplying the feature matrix 'x' with the weight vector 'theta'.  $z = \\mathbf{x}\\mathbf{\\theta}$   \n",
    "    * There are m training examples\n",
    "    * There are n features for tweet. (in this case 2, the sum of pos words and the sum of neg. words)\n",
    "    * $\\mathbf{x}$ has dimensions (m, n+1) \n",
    "    * $\\mathbf{\\theta}$: has dimensions (n+1, 1)\n",
    "    * $\\mathbf{z}$: has dimensions (m, 1)\n",
    "* The prediction 'h', is calculated by applying the sigmoid to each element in 'z': $h(z) = sigmoid(z)$, and has dimensions (m,1).\n",
    "* The cost function $J$ is calculated by taking the dot product of the vectors 'y' and 'log(h)'.  Since both 'y' and 'h' are column vectors (m,1), transpose the vector to the left, so that matrix multiplication of a row vector with column vector performs the dot product.\n",
    "$$J = \\frac{-1}{m} \\times \\left(\\mathbf{y}^T \\cdot log(\\mathbf{h}) + \\mathbf{(1-y)}^T \\cdot log(\\mathbf{1-h}) \\right)$$\n",
    "* The update of theta is also vectorized.  Because the dimensions of $\\mathbf{x}$ are (m, n+1), and both $\\mathbf{h}$ and $\\mathbf{y}$ are (m, 1), we need to transpose the $\\mathbf{x}$ and place it on the left in order to perform matrix multiplication, which then yields the (n+1, 1) answer we need:\n",
    "$$\\mathbf{\\theta} = \\mathbf{\\theta} - \\frac{\\alpha}{m} \\times \\left( \\mathbf{x}^T \\cdot \\left( \\mathbf{h-y} \\right) \\right)$$"
   ]
  },
  {
   "cell_type": "markdown",
   "metadata": {},
   "source": [
    "<details>    \n",
    "<summary>\n",
    "    <font size=\"3\" color=\"darkgreen\"><b>Hints</b></font>\n",
    "</summary>\n",
    "<p>\n",
    "<ul>\n",
    "    <li>use np.dot for matrix multiplication.</li>\n",
    "    <li>To ensure that the fraction -1/m is a decimal value, cast either the numerator or denominator (or both), like `float(1)`, or write `1.` for the float version of 1. </li>\n",
    "</ul>\n",
    "</p>\n",
    "\n"
   ]
  },
  {
   "cell_type": "code",
   "execution_count": 148,
   "metadata": {},
   "outputs": [
    {
     "name": "stdout",
     "output_type": "stream",
     "text": [
      "[[1.00000000e+00 8.34044009e+02 1.44064899e+03]\n",
      " [1.00000000e+00 2.28749635e-01 6.04665145e+02]\n",
      " [1.00000000e+00 2.93511782e+02 1.84677190e+02]\n",
      " [1.00000000e+00 3.72520423e+02 6.91121454e+02]\n",
      " [1.00000000e+00 7.93534948e+02 1.07763347e+03]\n",
      " [1.00000000e+00 8.38389029e+02 1.37043900e+03]\n",
      " [1.00000000e+00 4.08904499e+02 1.75623487e+03]\n",
      " [1.00000000e+00 5.47751864e+01 1.34093502e+03]\n",
      " [1.00000000e+00 8.34609605e+02 1.11737966e+03]\n",
      " [1.00000000e+00 2.80773877e+02 3.96202978e+02]]\n",
      "[[1.]\n",
      " [1.]\n",
      " [0.]\n",
      " [1.]\n",
      " [1.]\n",
      " [1.]\n",
      " [0.]\n",
      " [0.]\n",
      " [0.]\n",
      " [1.]]\n"
     ]
    }
   ],
   "source": [
    "# UNQ_C2 (UNIQUE CELL IDENTIFIER, DO NOT EDIT)\n",
    "def gradientDescent(x, y, theta_init, alpha, num_iters, DEBUG=False):\n",
    "    '''\n",
    "    Input:\n",
    "        x: matrix of features which is (m,n+1)\n",
    "            mio\n",
    "            [[1,34,45]\n",
    "             [1,23,56]\n",
    "             [1,56,12]\n",
    "             ...]\n",
    "             [row m]\n",
    "            ]\n",
    "        y: corresponding labels of the input matrix x, dimensions (m,1)\n",
    "            mio\n",
    "            [[1]\n",
    "             [1]\n",
    "             [...]\n",
    "             [0]\n",
    "             [0]\n",
    "             [...]\n",
    "             [row n]\n",
    "            ]\n",
    "        theta: weight vector of dimension (n+1,1)\n",
    "            mio:\n",
    "            [[1]\n",
    "             [0,3434]\n",
    "             [345]\n",
    "            ]\n",
    "        alpha: learning rate\n",
    "        num_iters: number of iterations you want to train your model for\n",
    "    Output:\n",
    "        J: the final cost\n",
    "        theta: your final weight vector\n",
    "    Hint: you might want to print the cost to make sure that it is going down.\n",
    "    '''\n",
    "    ### START CODE HERE (REPLACE INSTANCES OF 'None' with your code) ###\n",
    "    # get 'm', the number of rows in matrix x\n",
    "    m = x.shape[0]\n",
    "    J_evolution = []\n",
    "    teta_evolution = []\n",
    "    \n",
    "    theta = theta_init\n",
    "    \n",
    "    for i in range(0, num_iters):\n",
    "        \n",
    "        # get z, the dot product of x and theta\n",
    "        # mio: the so called logits\n",
    "        z = np.dot(x,theta)\n",
    "        \n",
    "        # get the sigmoid of z\n",
    "        h = sigmoid(z)\n",
    "        \n",
    "        # calculate the cost function\n",
    "        J = -1./m * (np.dot(y.transpose(), np.log(h)) + np.dot((1-y).transpose(),np.log(1-h)))    \n",
    "        # mio:\n",
    "        if DEBUG: \n",
    "            J_evolution.append(J)\n",
    "            teta_evolution.append(theta)\n",
    "        # update the weights theta\n",
    "        theta = theta - (alpha/m) * np.dot(x.transpose(),(h-y))\n",
    "        \n",
    "    ### END CODE HERE ###\n",
    "    J = float(J)\n",
    "    if DEBUG:\n",
    "        return J, theta, J_evolution\n",
    "    return J, theta\n",
    "\n",
    "# Check the function\n",
    "# Construct a synthetic test case using numpy PRNG functions\n",
    "np.random.seed(1)\n",
    "# X input is 10 x 3 with ones for the bias terms\n",
    "tmp_X = np.append(np.ones((10, 1)), np.random.rand(10, 2) * 2000, axis=1)\n",
    "# Y Labels are 10 x 1\n",
    "tmp_Y = (np.random.rand(10, 1) > 0.35).astype(float)\n",
    "print(tmp_X)\n",
    "print(tmp_Y)"
   ]
  },
  {
   "cell_type": "code",
   "execution_count": 149,
   "metadata": {},
   "outputs": [
    {
     "name": "stdout",
     "output_type": "stream",
     "text": [
      "[23, 34, 5, 67]\n"
     ]
    },
    {
     "data": {
      "image/png": "[encoded data removed]",
      "text/plain": [
       "<Figure size 640x480 with 1 Axes>"
      ]
     },
     "metadata": {},
     "output_type": "display_data"
    }
   ],
   "source": [
    "# plot J\n",
    "def plot_J (J):\n",
    "    '''\n",
    "    mio\n",
    "    my func\n",
    "    J is like:\n",
    "    [array([[0.69314718]]), array([[0.69305407]]),...\n",
    "    '''\n",
    "    \n",
    "    xs = list(range(len(J)))\n",
    "    ys = list(np.squeeze(J))\n",
    "    \n",
    "    plt.plot(xs, ys)\n",
    "    plt.show()\n",
    "    # Make sure to close the plt object once done\n",
    "    plt.close()\n",
    "\n",
    "example = [[[23]],[[34]],[[5]],[[67]]]\n",
    "print(list(np.squeeze(example)))\n",
    "plot_J(example)"
   ]
  },
  {
   "cell_type": "code",
   "execution_count": 150,
   "metadata": {},
   "outputs": [
    {
     "name": "stdout",
     "output_type": "stream",
     "text": [
      "The cost after training is 0.67094970.\n",
      "The resulting vector of weights is [4.1e-07, 0.00035658, 7.309e-05]\n"
     ]
    }
   ],
   "source": [
    "# Apply gradient descent\n",
    "theta_start = np.zeros((3, 1))\n",
    "tmp_J, tmp_theta, J_evolution = gradientDescent(tmp_X, tmp_Y, theta_start, 1e-8, 700, DEBUG=True)\n",
    "print(f\"The cost after training is {tmp_J:.8f}.\")\n",
    "print(f\"The resulting vector of weights is {[round(t, 8) for t in np.squeeze(tmp_theta)]}\")"
   ]
  },
  {
   "cell_type": "code",
   "execution_count": 151,
   "metadata": {},
   "outputs": [
    {
     "name": "stdout",
     "output_type": "stream",
     "text": [
      "[array([[0.69314718]]), array([[0.69305407]]), array([[0.69296151]]), array([[0.6928695]]), array([[0.69277802]]), array([[0.69268708]]), array([[0.69259667]]), array([[0.69250679]]), array([[0.69241743]]), array([[0.69232859]])]\n",
      "[0.6931471805599453, 0.6930540741993099, 0.6929615149729416, 0.6928694989001036, 0.6927780220289216, 0.6926870804361839, 0.6925966702271453, 0.6925067875353308, 0.6924174285223409, 0.692328589377658]\n"
     ]
    }
   ],
   "source": [
    "print(J_evolution[0:10])\n",
    "print([x[0][0] for x  in J_evolution[0:10]])"
   ]
  },
  {
   "cell_type": "code",
   "execution_count": 152,
   "metadata": {},
   "outputs": [
    {
     "data": {
      "image/png": "[encoded data removed]",
      "text/plain": [
       "<Figure size 640x480 with 1 Axes>"
      ]
     },
     "metadata": {},
     "output_type": "display_data"
    }
   ],
   "source": [
    "plot_J(J_evolution)"
   ]
  },
  {
   "cell_type": "markdown",
   "metadata": {},
   "source": [
    "#### Expected output\n",
    "```\n",
    "The cost after training is 0.67094970.\n",
    "The resulting vector of weights is [4.1e-07, 0.00035658, 7.309e-05]\n",
    "```"
   ]
  },
  {
   "cell_type": "markdown",
   "metadata": {},
   "source": [
    "## Part 2: Extracting the features\n",
    "\n",
    "* Given a list of tweets, extract the features and store them in a matrix. You will extract two features.\n",
    "    * The first feature is the number of positive words in a tweet.\n",
    "    * The second feature is the number of negative words in a tweet. \n",
    "* Then train your logistic regression classifier on these features.\n",
    "* Test the classifier on a validation set. \n",
    "\n",
    "### Instructions: Implement the extract_features function. \n",
    "* This function takes in a single tweet.\n",
    "* Process the tweet using the imported `process_tweet()` function and save the list of tweet words.\n",
    "* Loop through each word in the list of processed words\n",
    "    * For each word, check the `freqs` dictionary for the count when that word has a positive '1' label. (Check for the key (word, 1.0)\n",
    "    * Do the same for the count for when the word is associated with the negative label '0'. (Check for the key (word, 0.0).)\n"
   ]
  },
  {
   "cell_type": "markdown",
   "metadata": {},
   "source": [
    "<details>    \n",
    "<summary>\n",
    "    <font size=\"3\" color=\"darkgreen\"><b>Hints</b></font>\n",
    "</summary>\n",
    "<p>\n",
    "<ul>\n",
    "    <li>Make sure you handle cases when the (word, label) key is not found in the dictionary. </li>\n",
    "    <li> Search the web for hints about using the `.get()` method of a Python dictionary.  Here is an <a href=\"https://www.programiz.com/python-programming/methods/dictionary/get\" > example </a> </li>\n",
    "</ul>\n",
    "</p>\n"
   ]
  },
  {
   "cell_type": "code",
   "execution_count": 153,
   "metadata": {},
   "outputs": [],
   "source": [
    "# UNQ_C3 (UNIQUE CELL IDENTIFIER, DO NOT EDIT)\n",
    "def extract_features(tweet, freqs, DEBUG=False):\n",
    "    '''\n",
    "    Input: \n",
    "        tweet: a list of words for one tweet\n",
    "        freqs: a dictionary corresponding to the frequencies of each tuple (word, label)\n",
    "    Output: \n",
    "        x: a feature vector of dimension (1,3)\n",
    "    '''\n",
    "    # process_tweet tokenizes, stems, and removes stopwords\n",
    "    word_list = process_tweet(tweet, DEBUG=DEBUG)\n",
    "    \n",
    "    # 3 elements in the form of a 1 x 3 vector\n",
    "    x = np.zeros((1, 3)) \n",
    "    \n",
    "    #bias term is set to 1\n",
    "    x[0,0] = 1 \n",
    "    \n",
    "    ### START CODE HERE (REPLACE INSTANCES OF 'None' with your code) ###\n",
    "    \n",
    "    # loop through each word in the list of words\n",
    "    for word in word_list:\n",
    "        \n",
    "        # increment the word count for the positive label 1\n",
    "        x[0,1] += freqs.get((word, 1.0),0)\n",
    "        \n",
    "        # increment the word count for the negative label 0\n",
    "        x[0,2] += freqs.get((word, 0.0),0)\n",
    "        \n",
    "        if DEBUG: \n",
    "            print(f\"For word: {word}\")\n",
    "            print(f\"Adding as positive: {word} : {freqs.get((word, 1.0),0)}\")\n",
    "            print(f\"Adding as negative: {word} : {freqs.get((word, 0.0),0)}\")\n",
    "            \n",
    "        \n",
    "    ### END CODE HERE ###\n",
    "    assert(x.shape == (1, 3))\n",
    "    if DEBUG: \n",
    "        print(f\"FINAL features vector: {x}\")\n",
    "    return x"
   ]
  },
  {
   "cell_type": "code",
   "execution_count": 154,
   "metadata": {},
   "outputs": [
    {
     "name": "stdout",
     "output_type": "stream",
     "text": [
      "[[1.00e+00 3.02e+03 6.10e+01]]\n"
     ]
    }
   ],
   "source": [
    "# Check your function\n",
    "\n",
    "# test 1\n",
    "# test on training data\n",
    "tmp1 = extract_features(train_x[0], freqs)\n",
    "print(tmp1)"
   ]
  },
  {
   "cell_type": "markdown",
   "metadata": {},
   "source": [
    "#### Expected output\n",
    "```\n",
    "[[1.00e+00 3.02e+03 6.10e+01]]\n",
    "```"
   ]
  },
  {
   "cell_type": "code",
   "execution_count": 155,
   "metadata": {},
   "outputs": [
    {
     "name": "stdout",
     "output_type": "stream",
     "text": [
      "[[1. 0. 0.]]\n"
     ]
    }
   ],
   "source": [
    "# test 2:\n",
    "# check for when the words are not in the freqs dictionary\n",
    "tmp2 = extract_features('blorb bleeeeb bloooob', freqs)\n",
    "print(tmp2)"
   ]
  },
  {
   "cell_type": "markdown",
   "metadata": {},
   "source": [
    "#### Expected output\n",
    "```\n",
    "[[1. 0. 0.]]\n",
    "```"
   ]
  },
  {
   "cell_type": "markdown",
   "metadata": {},
   "source": [
    "## Part 3: Training Your Model\n",
    "\n",
    "To train the model:\n",
    "* Stack the features for all training examples into a matrix `X`. \n",
    "* Call `gradientDescent`, which you've implemented above.\n",
    "\n",
    "This section is given to you.  Please read it for understanding and run the cell."
   ]
  },
  {
   "cell_type": "code",
   "execution_count": 156,
   "metadata": {},
   "outputs": [
    {
     "name": "stdout",
     "output_type": "stream",
     "text": [
      "--PROCESS tweet--\n",
      "IN: FollowFriday @France_Inte @PKuchly57 @Milipol_Paris for being top engaged members in my community this week :) \n",
      "OUT:['followfriday', 'top', 'engag', 'member', 'commun', 'week', ':)']\n",
      "For word: followfriday\n",
      "Adding as positive: followfriday : 23\n",
      "Adding as negative: followfriday : 0\n",
      "For word: top\n",
      "Adding as positive: top : 30\n",
      "Adding as negative: top : 5\n",
      "For word: engag\n",
      "Adding as positive: engag : 7\n",
      "Adding as negative: engag : 0\n",
      "For word: member\n",
      "Adding as positive: member : 14\n",
      "Adding as negative: member : 6\n",
      "For word: commun\n",
      "Adding as positive: commun : 27\n",
      "Adding as negative: commun : 1\n",
      "For word: week\n",
      "Adding as positive: week : 72\n",
      "Adding as negative: week : 47\n",
      "For word: :)\n",
      "Adding as positive: :) : 2847\n",
      "Adding as negative: :) : 2\n",
      "FINAL features vector: [[1.00e+00 3.02e+03 6.10e+01]]\n",
      "#FollowFriday @France_Inte @PKuchly57 @Milipol_Paris for being top engaged members in my community this week :)\n",
      "[1.00e+00 3.02e+03 6.10e+01]\n",
      "--PROCESS tweet--\n",
      "IN: @Lamb2ja Hey James! How odd :/ Please call our Contact Centre on 02392441234 and we will be able to assist you :) Many thanks! \n",
      "OUT:['hey', 'jame', 'odd', ':/', 'pleas', 'call', 'contact', 'centr', '02392441234', 'abl', 'assist', ':)', 'mani', 'thank']\n",
      "For word: hey\n",
      "Adding as positive: hey : 60\n",
      "Adding as negative: hey : 20\n",
      "For word: jame\n",
      "Adding as positive: jame : 7\n",
      "Adding as negative: jame : 3\n",
      "For word: odd\n",
      "Adding as positive: odd : 2\n",
      "Adding as negative: odd : 2\n",
      "For word: :/\n",
      "Adding as positive: :/ : 5\n",
      "Adding as negative: :/ : 8\n",
      "For word: pleas\n",
      "Adding as positive: pleas : 80\n",
      "Adding as negative: pleas : 243\n",
      "For word: call\n",
      "Adding as positive: call : 27\n",
      "Adding as negative: call : 22\n",
      "For word: contact\n",
      "Adding as positive: contact : 4\n",
      "Adding as negative: contact : 7\n",
      "For word: centr\n",
      "Adding as positive: centr : 1\n",
      "Adding as negative: centr : 2\n",
      "For word: 02392441234\n",
      "Adding as positive: 02392441234 : 1\n",
      "Adding as negative: 02392441234 : 0\n",
      "For word: abl\n",
      "Adding as positive: abl : 6\n",
      "Adding as negative: abl : 17\n",
      "For word: assist\n",
      "Adding as positive: assist : 1\n",
      "Adding as negative: assist : 0\n",
      "For word: :)\n",
      "Adding as positive: :) : 2847\n",
      "Adding as negative: :) : 2\n",
      "For word: mani\n",
      "Adding as positive: mani : 28\n",
      "Adding as negative: mani : 24\n",
      "For word: thank\n",
      "Adding as positive: thank : 504\n",
      "Adding as negative: thank : 94\n",
      "FINAL features vector: [[1.000e+00 3.573e+03 4.440e+02]]\n",
      "@Lamb2ja Hey James! How odd :/ Please call our Contact Centre on 02392441234 and we will be able to assist you :) Many thanks!\n",
      "[1.000e+00 3.573e+03 4.440e+02]\n",
      "--PROCESS tweet--\n",
      "IN: @DespiteOfficial we had a listen last night :) As You Bleed is an amazing track. When are you in Scotland?! \n",
      "OUT:['listen', 'last', 'night', ':)', 'bleed', 'amaz', 'track', 'scotland']\n",
      "For word: listen\n",
      "Adding as positive: listen : 14\n",
      "Adding as negative: listen : 14\n",
      "For word: last\n",
      "Adding as positive: last : 39\n",
      "Adding as negative: last : 51\n",
      "For word: night\n",
      "Adding as positive: night : 55\n",
      "Adding as negative: night : 33\n",
      "For word: :)\n",
      "Adding as positive: :) : 2847\n",
      "Adding as negative: :) : 2\n",
      "For word: bleed\n",
      "Adding as positive: bleed : 2\n",
      "Adding as negative: bleed : 1\n",
      "For word: amaz\n",
      "Adding as positive: amaz : 41\n",
      "Adding as negative: amaz : 12\n",
      "For word: track\n",
      "Adding as positive: track : 5\n",
      "Adding as negative: track : 1\n",
      "For word: scotland\n",
      "Adding as positive: scotland : 2\n",
      "Adding as negative: scotland : 1\n",
      "FINAL features vector: [[1.000e+00 3.005e+03 1.150e+02]]\n",
      "@DespiteOfficial we had a listen last night :) As You Bleed is an amazing track. When are you in Scotland?!\n",
      "[1.000e+00 3.005e+03 1.150e+02]\n",
      "--PROCESS tweet--\n",
      "IN: @97sides CONGRATS :) \n",
      "OUT:['congrat', ':)']\n",
      "For word: congrat\n",
      "Adding as positive: congrat : 15\n",
      "Adding as negative: congrat : 2\n",
      "For word: :)\n",
      "Adding as positive: :) : 2847\n",
      "Adding as negative: :) : 2\n",
      "FINAL features vector: [[1.000e+00 2.862e+03 4.000e+00]]\n",
      "@97sides CONGRATS :)\n",
      "[1.000e+00 2.862e+03 4.000e+00]\n",
      "--PROCESS tweet--\n",
      "IN: yeaaaah yippppy!!!  my accnt verified rqst has succeed got a blue tick mark on my fb profile :) in 15 days \n",
      "OUT:['yeaaah', 'yipppi', 'accnt', 'verifi', 'rqst', 'succeed', 'got', 'blue', 'tick', 'mark', 'fb', 'profil', ':)', '15', 'day']\n",
      "For word: yeaaah\n",
      "Adding as positive: yeaaah : 1\n",
      "Adding as negative: yeaaah : 0\n",
      "For word: yipppi\n",
      "Adding as positive: yipppi : 1\n",
      "Adding as negative: yipppi : 0\n",
      "For word: accnt\n",
      "Adding as positive: accnt : 2\n",
      "Adding as negative: accnt : 0\n",
      "For word: verifi\n",
      "Adding as positive: verifi : 2\n",
      "Adding as negative: verifi : 0\n",
      "For word: rqst\n",
      "Adding as positive: rqst : 1\n",
      "Adding as negative: rqst : 0\n",
      "For word: succeed\n",
      "Adding as positive: succeed : 1\n",
      "Adding as negative: succeed : 0\n",
      "For word: got\n",
      "Adding as positive: got : 57\n",
      "Adding as negative: got : 90\n",
      "For word: blue\n",
      "Adding as positive: blue : 8\n",
      "Adding as negative: blue : 4\n",
      "For word: tick\n",
      "Adding as positive: tick : 1\n",
      "Adding as negative: tick : 0\n",
      "For word: mark\n",
      "Adding as positive: mark : 1\n",
      "Adding as negative: mark : 2\n",
      "For word: fb\n",
      "Adding as positive: fb : 4\n",
      "Adding as negative: fb : 4\n",
      "For word: profil\n",
      "Adding as positive: profil : 2\n",
      "Adding as negative: profil : 1\n",
      "For word: :)\n",
      "Adding as positive: :) : 2847\n",
      "Adding as negative: :) : 2\n",
      "For word: 15\n",
      "Adding as positive: 15 : 4\n",
      "Adding as negative: 15 : 8\n",
      "For word: day\n",
      "Adding as positive: day : 187\n",
      "Adding as negative: day : 114\n",
      "FINAL features vector: [[1.000e+00 3.119e+03 2.250e+02]]\n",
      "yeaaaah yippppy!!!  my accnt verified rqst has succeed got a blue tick mark on my fb profile :) in 15 days\n",
      "[1.000e+00 3.119e+03 2.250e+02]\n",
      "--PROCESS tweet--\n",
      "IN: @BhaktisBanter @PallaviRuhail This one is irresistible :)\n",
      "FlipkartFashionFriday  \n",
      "OUT:['one', 'irresist', ':)', 'flipkartfashionfriday']\n",
      "For word: one\n",
      "Adding as positive: one : 90\n",
      "Adding as negative: one : 117\n",
      "For word: irresist\n",
      "Adding as positive: irresist : 2\n",
      "Adding as negative: irresist : 0\n",
      "For word: :)\n",
      "Adding as positive: :) : 2847\n",
      "Adding as negative: :) : 2\n",
      "For word: flipkartfashionfriday\n",
      "Adding as positive: flipkartfashionfriday : 16\n",
      "Adding as negative: flipkartfashionfriday : 0\n",
      "FINAL features vector: [[1.000e+00 2.955e+03 1.190e+02]]\n",
      "@BhaktisBanter @PallaviRuhail This one is irresistible :)\n",
      "#FlipkartFashionFriday http://t.co/EbZ0L2VENM\n",
      "[1.000e+00 2.955e+03 1.190e+02]\n",
      "--PROCESS tweet--\n",
      "IN: We don't like to keep our lovely customers waiting for long! We hope you enjoy! Happy Friday! - LWWF :)  \n",
      "OUT:[\"don't\", 'like', 'keep', 'love', 'custom', 'wait', 'long', 'hope', 'enjoy', 'happi', 'friday', 'lwwf', ':)']\n",
      "For word: don't\n",
      "Adding as positive: don't : 69\n",
      "Adding as negative: don't : 144\n",
      "For word: like\n",
      "Adding as positive: like : 187\n",
      "Adding as negative: like : 182\n",
      "For word: keep\n",
      "Adding as positive: keep : 55\n",
      "Adding as negative: keep : 31\n",
      "For word: love\n",
      "Adding as positive: love : 336\n",
      "Adding as negative: love : 128\n",
      "For word: custom\n",
      "Adding as positive: custom : 4\n",
      "Adding as negative: custom : 1\n",
      "For word: wait\n",
      "Adding as positive: wait : 55\n",
      "Adding as negative: wait : 36\n",
      "For word: long\n",
      "Adding as positive: long : 27\n",
      "Adding as negative: long : 33\n",
      "For word: hope\n",
      "Adding as positive: hope : 113\n",
      "Adding as negative: hope : 91\n",
      "For word: enjoy\n",
      "Adding as positive: enjoy : 57\n",
      "Adding as negative: enjoy : 7\n",
      "For word: happi\n",
      "Adding as positive: happi : 161\n",
      "Adding as negative: happi : 18\n",
      "For word: friday\n",
      "Adding as positive: friday : 91\n",
      "Adding as negative: friday : 9\n",
      "For word: lwwf\n",
      "Adding as positive: lwwf : 1\n",
      "Adding as negative: lwwf : 0\n",
      "For word: :)\n",
      "Adding as positive: :) : 2847\n",
      "Adding as negative: :) : 2\n",
      "FINAL features vector: [[1.000e+00 4.003e+03 6.820e+02]]\n",
      "We don't like to keep our lovely customers waiting for long! We hope you enjoy! Happy Friday! - LWWF :) https://t.co/smyYriipxI\n",
      "[1.000e+00 4.003e+03 6.820e+02]\n"
     ]
    }
   ],
   "source": [
    "# collect the features 'x' and stack them into a matrix 'X'\n",
    "X = np.zeros((len(train_x), 3))\n",
    "for i in range(len(train_x)):\n",
    "    X[i, :]= extract_features(train_x[i], freqs, DEBUG=True)\n",
    "    print(train_x[i])\n",
    "    print(X[i, :])\n",
    "    if i>5:\n",
    "        break\n",
    "        "
   ]
  },
  {
   "cell_type": "code",
   "execution_count": 157,
   "metadata": {},
   "outputs": [
    {
     "name": "stdout",
     "output_type": "stream",
     "text": [
      "(8000, 3)\n"
     ]
    }
   ],
   "source": [
    "X = np.zeros((len(train_x), 3))\n",
    "for i in range(len(train_x)):\n",
    "    X[i, :]= extract_features(train_x[i], freqs, DEBUG=False)\n",
    "print(X.shape)"
   ]
  },
  {
   "cell_type": "code",
   "execution_count": 158,
   "metadata": {},
   "outputs": [
    {
     "name": "stdout",
     "output_type": "stream",
     "text": [
      "(8000, 1)\n"
     ]
    }
   ],
   "source": [
    "# training labels corresponding to X\n",
    "Y = train_y\n",
    "print(Y.shape)"
   ]
  },
  {
   "cell_type": "code",
   "execution_count": 159,
   "metadata": {},
   "outputs": [],
   "source": [
    "# Apply gradient descent\n",
    "J, theta, J_evolution = gradientDescent(X, Y, np.zeros((3, 1)), 1e-9, 1500, DEBUG=True)"
   ]
  },
  {
   "cell_type": "code",
   "execution_count": 160,
   "metadata": {},
   "outputs": [
    {
     "name": "stdout",
     "output_type": "stream",
     "text": [
      "The cost after training is 0.24211683.\n",
      "[[ 7.27817497e-08]\n",
      " [ 5.24277879e-04]\n",
      " [-5.54724230e-04]]\n",
      "The resulting vector of weights is [7e-08, 0.00052428, -0.00055472]\n"
     ]
    }
   ],
   "source": [
    "print(f\"The cost after training is {J:.8f}.\")\n",
    "print(theta)\n",
    "print(f\"The resulting vector of weights is {[round(t, 8) for t in np.squeeze(theta)]}\")"
   ]
  },
  {
   "cell_type": "code",
   "execution_count": 161,
   "metadata": {},
   "outputs": [
    {
     "data": {
      "image/png": "[encoded data removed]",
      "text/plain": [
       "<Figure size 640x480 with 1 Axes>"
      ]
     },
     "metadata": {},
     "output_type": "display_data"
    }
   ],
   "source": [
    "plot_J(J_evolution)"
   ]
  },
  {
   "cell_type": "markdown",
   "metadata": {},
   "source": [
    "**Expected Output**: \n",
    "\n",
    "```\n",
    "The cost after training is 0.24216529.\n",
    "The resulting vector of weights is [7e-08, 0.0005239, -0.00055517]\n",
    "```"
   ]
  },
  {
   "cell_type": "markdown",
   "metadata": {},
   "source": [
    "# Part 4: Test your logistic regression\n",
    "\n",
    "It is time for you to test your logistic regression function on some new input that your model has not seen before. \n",
    "\n",
    "#### Instructions: Write `predict_tweet`\n",
    "Predict whether a tweet is positive or negative.\n",
    "\n",
    "* Given a tweet, process it, then extract the features.\n",
    "* Apply the model's learned weights on the features to get the logits.\n",
    "* Apply the sigmoid to the logits to get the prediction (a value between 0 and 1).\n",
    "\n",
    "$$y_{pred} = sigmoid(\\mathbf{x} \\cdot \\theta)$$"
   ]
  },
  {
   "cell_type": "code",
   "execution_count": 163,
   "metadata": {},
   "outputs": [],
   "source": [
    "# UNQ_C4 (UNIQUE CELL IDENTIFIER, DO NOT EDIT)\n",
    "def predict_tweet(tweet, freqs, theta):\n",
    "    '''\n",
    "    Input: \n",
    "        tweet: a string\n",
    "        freqs: a dictionary corresponding to the frequencies of each tuple (word, label)\n",
    "        theta: (3,1) vector of weights\n",
    "    Output: \n",
    "        y_pred: the probability of a tweet being positive or negative\n",
    "    '''\n",
    "    ### START CODE HERE (REPLACE INSTANCES OF 'None' with your code) ###\n",
    "    \n",
    "    # extract the features of the tweet and store it into x\n",
    "    x = extract_features(tweet,freqs)\n",
    "    \n",
    "    # make the prediction using x and theta\n",
    "    y_pred = sigmoid(np.dot(x,theta))\n",
    "    \n",
    "    ### END CODE HERE ###\n",
    "    \n",
    "    return y_pred"
   ]
  },
  {
   "cell_type": "code",
   "execution_count": 164,
   "metadata": {},
   "outputs": [
    {
     "name": "stdout",
     "output_type": "stream",
     "text": [
      "I am happy -> 0.518597\n",
      "I am bad -> 0.494346\n",
      "this movie should have been great. -> 0.515349\n",
      "great -> 0.515478\n",
      "great great -> 0.530927\n",
      "great great great -> 0.546316\n",
      "great great great great -> 0.561618\n"
     ]
    }
   ],
   "source": [
    "# Run this cell to test your function\n",
    "for tweet in ['I am happy', 'I am bad', 'this movie should have been great.', 'great', 'great great', 'great great great', 'great great great great']:\n",
    "    print( '%s -> %f' % (tweet, predict_tweet(tweet, freqs, theta)))"
   ]
  },
  {
   "cell_type": "markdown",
   "metadata": {},
   "source": [
    "**Expected Output**: \n",
    "```\n",
    "I am happy -> 0.518580\n",
    "I am bad -> 0.494339\n",
    "this movie should have been great. -> 0.515331\n",
    "great -> 0.515464\n",
    "great great -> 0.530898\n",
    "great great great -> 0.546273\n",
    "great great great great -> 0.561561\n",
    "```"
   ]
  },
  {
   "cell_type": "code",
   "execution_count": 165,
   "metadata": {},
   "outputs": [
    {
     "data": {
      "text/plain": [
       "array([[0.81652682]])"
      ]
     },
     "execution_count": 165,
     "metadata": {},
     "output_type": "execute_result"
    }
   ],
   "source": [
    "# Feel free to check the sentiment of your own tweet below\n",
    "my_tweet = 'I am learning :)'\n",
    "predict_tweet(my_tweet, freqs, theta)"
   ]
  },
  {
   "cell_type": "markdown",
   "metadata": {},
   "source": [
    "## Check performance using the test set\n",
    "After training your model using the training set above, check how your model might perform on real, unseen data, by testing it against the test set.\n",
    "\n",
    "#### Instructions: Implement `test_logistic_regression` \n",
    "* Given the test data and the weights of your trained model, calculate the accuracy of your logistic regression model. \n",
    "* Use your `predict_tweet()` function to make predictions on each tweet in the test set.\n",
    "* If the prediction is > 0.5, set the model's classification `y_hat` to 1, otherwise set the model's classification `y_hat` to 0.\n",
    "* A prediction is accurate when `y_hat` equals `test_y`.  Sum up all the instances when they are equal and divide by `m`.\n"
   ]
  },
  {
   "cell_type": "markdown",
   "metadata": {},
   "source": [
    "<details>    \n",
    "<summary>\n",
    "    <font size=\"3\" color=\"darkgreen\"><b>Hints</b></font>\n",
    "</summary>\n",
    "<p>\n",
    "<ul>\n",
    "    <li>Use np.asarray() to convert a list to a numpy array</li>\n",
    "    <li>Use np.squeeze() to make an (m,1) dimensional array into an (m,) array </li>\n",
    "</ul>\n",
    "</p>"
   ]
  },
  {
   "cell_type": "code",
   "execution_count": 166,
   "metadata": {},
   "outputs": [],
   "source": [
    "# UNQ_C5 (UNIQUE CELL IDENTIFIER, DO NOT EDIT)\n",
    "def test_logistic_regression(test_x, test_y, freqs, theta):\n",
    "    \"\"\"\n",
    "    Input: \n",
    "        test_x: a list of tweets\n",
    "        test_y: (m, 1) vector with the corresponding labels for the list of tweets\n",
    "        freqs: a dictionary with the frequency of each pair (or tuple)\n",
    "        theta: weight vector of dimension (3, 1)\n",
    "    Output: \n",
    "        accuracy: (# of tweets classified correctly) / (total # of tweets)\n",
    "    \"\"\"\n",
    "    \n",
    "    ### START CODE HERE (REPLACE INSTANCES OF 'None' with your code) ###\n",
    "    \n",
    "    # the list for storing predictions\n",
    "    y_hat = []\n",
    "    \n",
    "    for tweet in test_x:\n",
    "        # get the label prediction for the tweet\n",
    "        y_pred = predict_tweet(tweet, freqs, theta)\n",
    "        \n",
    "        if y_pred > 0.5:\n",
    "            # append 1.0 to the list\n",
    "            y_hat.append(1)\n",
    "        else:\n",
    "            # append 0 to the list\n",
    "            y_hat.append(0)\n",
    "\n",
    "    # With the above implementation, y_hat is a list, but test_y is (m,1) array\n",
    "    # convert both to one-dimensional arrays in order to compare them using the '==' operator\n",
    "    accuracy = (y_hat==np.squeeze(test_y)).sum()/len(test_x)\n",
    "\n",
    "    ### END CODE HERE ###\n",
    "    \n",
    "    return accuracy"
   ]
  },
  {
   "cell_type": "code",
   "execution_count": 167,
   "metadata": {},
   "outputs": [
    {
     "name": "stdout",
     "output_type": "stream",
     "text": [
      "Logistic regression model's accuracy = 0.9945\n"
     ]
    }
   ],
   "source": [
    "tmp_accuracy = test_logistic_regression(test_x, test_y, freqs, theta)\n",
    "print(f\"Logistic regression model's accuracy = {tmp_accuracy:.4f}\")"
   ]
  },
  {
   "cell_type": "markdown",
   "metadata": {},
   "source": [
    "#### Expected Output: \n",
    "```0.9950```  \n",
    "Pretty good!"
   ]
  },
  {
   "cell_type": "markdown",
   "metadata": {},
   "source": [
    "# Part 5: Error Analysis\n",
    "\n",
    "In this part you will see some tweets that your model misclassified. Why do you think the misclassifications happened? Specifically what kind of tweets does your model misclassify?"
   ]
  },
  {
   "cell_type": "code",
   "execution_count": 168,
   "metadata": {},
   "outputs": [
    {
     "name": "stdout",
     "output_type": "stream",
     "text": [
      "Label Predicted Tweet\n",
      "THE TWEET IS: @jaredNOTsubway @iluvmariah @Bravotv Then that truly is a LATERAL move! Now, we all know the Queen Bee is UPWARD BOUND : ) #MovingOnUp\n",
      "THE PROCESSED TWEET IS: ['truli', 'later', 'move', 'know', 'queen', 'bee', 'upward', 'bound', 'movingonup']\n",
      "1\t0.49999817\tb'truli later move know queen bee upward bound movingonup'\n",
      "THE TWEET IS: @MarkBreech Not sure it would be good thing 4 my bottom daring 2 say 2 Miss B but Im gonna be so stubborn on mouth soaping ! #NotHavingit :p\n",
      "THE PROCESSED TWEET IS: ['sure', 'would', 'good', 'thing', '4', 'bottom', 'dare', '2', 'say', '2', 'miss', 'b', 'im', 'gonna', 'stubborn', 'mouth', 'soap', 'nothavingit', ':p']\n",
      "1\t0.48678372\tb'sure would good thing 4 bottom dare 2 say 2 miss b im gonna stubborn mouth soap nothavingit :p'\n",
      "THE TWEET IS: I'm playing Brain Dots : ) #BrainDots\n",
      "http://t.co/UGQzOx0huu\n",
      "THE PROCESSED TWEET IS: [\"i'm\", 'play', 'brain', 'dot', 'braindot']\n",
      "1\t0.48376039\tb\"i'm play brain dot braindot\"\n",
      "THE TWEET IS: I'm playing Brain Dots : ) #BrainDots http://t.co/aOKldo3GMj http://t.co/xWCM9qyRG5\n",
      "THE PROCESSED TWEET IS: [\"i'm\", 'play', 'brain', 'dot', 'braindot']\n",
      "1\t0.48376039\tb\"i'm play brain dot braindot\"\n",
      "THE TWEET IS: I'm playing Brain Dots : ) #BrainDots http://t.co/R2JBO8iNww http://t.co/ow5BBwdEMY\n",
      "THE PROCESSED TWEET IS: [\"i'm\", 'play', 'brain', 'dot', 'braindot']\n",
      "1\t0.48376039\tb\"i'm play brain dot braindot\"\n",
      "THE TWEET IS: off to the park to get some sunlight : )\n",
      "THE PROCESSED TWEET IS: ['park', 'get', 'sunlight']\n",
      "1\t0.49582429\tb'park get sunlight'\n",
      "THE TWEET IS: @msarosh Uff Itna Miss karhy thy ap :p\n",
      "THE PROCESSED TWEET IS: ['uff', 'itna', 'miss', 'karhi', 'thi', 'ap', ':p']\n",
      "1\t0.48216749\tb'uff itna miss karhi thi ap :p'\n",
      "THE TWEET IS: @kevinngmingyuan peasant seats to watch a peasant team...I don't mind :p ahahha\n",
      "THE PROCESSED TWEET IS: ['peasant', 'seat', 'watch', 'peasant', 'team', '...', \"don't\", 'mind', ':p', 'ahahha']\n",
      "1\t0.49156953\tb\"peasant seat watch peasant team ... don't mind :p ahahha\"\n",
      "THE TWEET IS: @phenomyoutube u probs had more fun with david than me : (\n",
      "THE PROCESSED TWEET IS: ['u', 'prob', 'fun', 'david']\n",
      "0\t0.50024082\tb'u prob fun david'\n",
      "THE TWEET IS: pats jay : (\n",
      "THE PROCESSED TWEET IS: ['pat', 'jay']\n",
      "0\t0.50039323\tb'pat jay'\n",
      "THE TWEET IS: my beloved grandmother : ( https://t.co/wt4oXq5xCf\n",
      "THE PROCESSED TWEET IS: ['belov', 'grandmoth']\n",
      "0\t0.50000002\tb'belov grandmoth'\n"
     ]
    }
   ],
   "source": [
    "# Some error analysis done for you\n",
    "print('Label Predicted Tweet')\n",
    "for x,y in zip(test_x,test_y):\n",
    "    y_hat = predict_tweet(x, freqs, theta)\n",
    "\n",
    "    if np.abs(y - (y_hat > 0.5)) > 0:\n",
    "        print('THE TWEET IS:', x)\n",
    "        print('THE PROCESSED TWEET IS:', process_tweet(x))\n",
    "        print('%d\\t%0.8f\\t%s' % (y, y_hat, ' '.join(process_tweet(x)).encode('ascii', 'ignore')))"
   ]
  },
  {
   "cell_type": "markdown",
   "metadata": {},
   "source": [
    "Later in this specialization, we will see how we can use deep learning to improve the prediction performance."
   ]
  },
  {
   "cell_type": "markdown",
   "metadata": {},
   "source": [
    "# Part 6: Predict with your own tweet"
   ]
  },
  {
   "cell_type": "code",
   "execution_count": null,
   "metadata": {
    "tags": []
   },
   "outputs": [],
   "source": [
    "# Feel free to change the tweet below\n",
    "my_tweet = 'This is a ridiculously bright movie. The plot was terrible and I was sad until the ending!'\n",
    "print(process_tweet(my_tweet))\n",
    "y_hat = predict_tweet(my_tweet, freqs, theta)\n",
    "print(y_hat)\n",
    "if y_hat > 0.5:\n",
    "    print('Positive sentiment')\n",
    "else: \n",
    "    print('Negative sentiment')"
   ]
  }
 ],
 "metadata": {
  "coursera": {
   "schema_names": [
    "NLPC1-1"
   ]
  },
  "kernelspec": {
   "display_name": "Python 3 (ipykernel)",
   "language": "python",
   "name": "python3"
  },
  "language_info": {
   "codemirror_mode": {
    "name": "ipython",
    "version": 3
   },
   "file_extension": ".py",
   "mimetype": "text/x-python",
   "name": "python",
   "nbconvert_exporter": "python",
   "pygments_lexer": "ipython3",
   "version": "3.10.9"
  }
 },
 "nbformat": 4,
 "nbformat_minor": 4
}
